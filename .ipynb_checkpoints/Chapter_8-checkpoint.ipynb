{
 "cells": [
  {
   "cell_type": "code",
   "execution_count": 1,
   "metadata": {
    "collapsed": true
   },
   "outputs": [],
   "source": [
    "import gdal, gdalnumeric, ogr\n",
    "from PIL import Image, ImageDraw"
   ]
  },
  {
   "cell_type": "code",
   "execution_count": 11,
   "metadata": {
    "collapsed": false
   },
   "outputs": [],
   "source": [
    "def imageToArray(i):\n",
    "    \"\"\"Converts a Python Imaging Library array to a gdalnumeric image.\"\"\"\n",
    "    a=gdalnumeric.numpy.fromstring(i.tobytes(),'b')\n",
    "    a.shape=i.im.size[1], i.im.size[0]\n",
    "    return a\n",
    "def world2Pixel(geoMatrix, x, y):\n",
    "    \"\"\"\n",
    "    Uses a gdal geomatrix (gdal.GetGeoTransform())\n",
    "    to calculate the pixel location of a\n",
    "    geospatial coordinate\n",
    "    \"\"\"\n",
    "    ulX = geoMatrix[0]\n",
    "    ulY = geoMatrix[3]\n",
    "    xDist = geoMatrix[1]\n",
    "    yDist = geoMatrix[5]\n",
    "    rtnX = geoMatrix[2]\n",
    "    rtnY = geoMatrix[4]\n",
    "    pixel = int((x - ulX) / xDist)\n",
    "    line = int((ulY - y) / xDist)\n",
    "    return (pixel, line)"
   ]
  },
  {
   "cell_type": "code",
   "execution_count": 12,
   "metadata": {
    "collapsed": true
   },
   "outputs": [],
   "source": [
    "# Multispectral image used\n",
    "# to create the NDVI. Must\n",
    "# have red and infrared\n",
    "# bands\n",
    "source = \"farm.tif\"\n",
    "# Output geotiff file name\n",
    "target = \"ndvi.tif\"\n",
    "# Load the source data as a gdalnumeric array\n",
    "srcArray = gdalnumeric.LoadFile(source)\n",
    "# Also load as a gdal image to\n",
    "# get geotransform (world file) info\n",
    "srcImage = gdal.Open(source)\n",
    "geoTrans = srcImage.GetGeoTransform()\n",
    "# Red and infrared (or near infrared) bands\n",
    "r = srcArray[1]\n",
    "ir = srcArray[2]\n"
   ]
  },
  {
   "cell_type": "code",
   "execution_count": 13,
   "metadata": {
    "collapsed": true
   },
   "outputs": [],
   "source": [
    "## Clip a field out of the bands using a\n",
    "## field boundary shapefile\n",
    "# Create an OGR layer from a Field boundary shapefile\n",
    "field = ogr.Open(\"field.shp\")\n",
    "# Must define a \"layer\" to keep OGR happy\n",
    "lyr = field.GetLayer(\"field\")\n",
    "# Only one polygon in this shapefile\n",
    "poly = lyr.GetNextFeature()\n",
    "# Convert the layer extent to image pixel coordinates\n",
    "minX, maxX, minY, maxY = lyr.GetExtent()\n",
    "ulX, ulY = world2Pixel(geoTrans, minX, maxY)\n",
    "lrX, lrY = world2Pixel(geoTrans, maxX, minY)\n",
    "# Calculate the pixel size of the new image"
   ]
  },
  {
   "cell_type": "code",
   "execution_count": 14,
   "metadata": {
    "collapsed": false
   },
   "outputs": [],
   "source": [
    "pxWidth = int(lrX - ulX)\n",
    "pxHeight = int(lrY - ulY)\n",
    "# Create a blank image of the correct size\n",
    "# that will serve as our mask\n",
    "clipped = gdalnumeric.numpy.zeros((3, pxHeight, pxWidth), \\\n",
    "                                  gdalnumeric.numpy.uint8)\n",
    "#mmask = gdalnumeric.zeros((3, pxHeight, pxWidth), gdalnumeric.UnsignedInt8)\n",
    "#rgb = rgb.astype(gdalnumeric.UnsignedInt8)\n",
    "rClip = r[ulY:lrY, ulX:lrX]\n",
    "irClip = ir[ulY:lrY, ulX:lrX]\n",
    "# Create a new geomatrix for the image\n",
    "geoTrans = list(geoTrans)\n",
    "geoTrans[0] = minX\n",
    "geoTrans[3] = maxY\n",
    "# Map points to pixels for drawing\n",
    "# the field boundary on a blank\n",
    "# 8-bit, black and white, mask image.\n",
    "points = []\n",
    "pixels = []\n",
    "# Grab the polygon geometry\n",
    "geom = poly.GetGeometryRef()\n",
    "pts = geom.GetGeometryRef(0)\n",
    "# Loop through geometry and turn\n",
    "# the points into an easy-to-manage\n",
    "# Python list\n",
    "for p in range(pts.GetPointCount()):\n",
    "    points.append((pts.GetX(p), pts.GetY(p)))\n",
    "# Loop through the points and map to pixels.\n",
    "# Append the pixels to a pixel list\n",
    "for p in points:\n",
    "    pixels.append(world2Pixel(geoTrans, p[0], p[1]))\n",
    "# Create the raster polygon image\n",
    "rasterPoly = Image.new(\"L\", (pxWidth, pxHeight), 1)\n",
    "# Create a PIL drawing object\n",
    "rasterize = ImageDraw.Draw(rasterPoly)\n",
    "# Dump the pixels to the image\n",
    "rasterize.polygon(pixels, 0)\n",
    "# Hand the image back to gdal/gdalnumeric\n",
    "# so we can use it as an array mask\n",
    "mask = imageToArray(rasterPoly)\n"
   ]
  },
  {
   "cell_type": "code",
   "execution_count": 15,
   "metadata": {
    "collapsed": true
   },
   "outputs": [],
   "source": [
    "# Clip the red band using the mask\n",
    "rClip = gdalnumeric.numpy.choose(mask, \\\n",
    "                                 (rClip, 0)).astype(gdalnumeric.numpy.uint8)\n",
    "# Clip the infrared band using the mask\n",
    "irClip = gdalnumeric.numpy.choose(mask, \\\n",
    "                                  (irClip, 0)).astype(gdalnumeric.numpy.uint8)"
   ]
  },
  {
   "cell_type": "code",
   "execution_count": 16,
   "metadata": {
    "collapsed": false
   },
   "outputs": [
    {
     "data": {
      "text/plain": [
       "<osgeo.gdal.Dataset; proxy of <Swig Object of type 'GDALDatasetShadow *' at 0x10e38c570> >"
      ]
     },
     "execution_count": 16,
     "metadata": {},
     "output_type": "execute_result"
    }
   ],
   "source": [
    "# We don't care about numpy warnings\n",
    "# due to NaN values from clipping\n",
    "gdalnumeric.numpy.seterr(all=\"ignore\")\n",
    "# NDVI equation: (infrared - red) / (infrared + red)\n",
    "# *1.0 converts values to floats,\n",
    "# +1.0 prevents ZeroDivisionErrors\n",
    "ndvi = 1.0 * (irClip - rClip) / irClip + rClip + 1.0\n",
    "# Remove any NaN values from the final product\n",
    "ndvi = gdalnumeric.numpy.nan_to_num(ndvi)\n",
    "# Save ndvi as tiff\n",
    "gdalnumeric.SaveArray(ndvi, target, \\\n",
    "                      format=\"GTiff\", prototype=source)"
   ]
  },
  {
   "cell_type": "code",
   "execution_count": 20,
   "metadata": {
    "collapsed": true
   },
   "outputs": [],
   "source": [
    "import gdalnumeric as gd\n",
    "import operator\n",
    "import functools"
   ]
  },
  {
   "cell_type": "code",
   "execution_count": 21,
   "metadata": {
    "collapsed": true
   },
   "outputs": [],
   "source": [
    "def histogram(a, bins=range(0,256)):\n",
    "    \"\"\"\n",
    "    Histogram function for multi-dimensional array.\n",
    "    a = array\n",
    "    bins = range of numbers to match\n",
    "    \"\"\"\n",
    "    fa = a.flat\n",
    "    n = gd.numpy.searchsorted(gd.numpy.sort(fa), bins)\n",
    "    n = gd.numpy.concatenate([n, [len(fa)]])\n",
    "    hist = n[1:]-n[:-1]\n",
    "    return hist\n",
    "def stretch(a):\n",
    "    \"\"\"\n",
    "    Performs a histogram stretch on a gdalnumeric array image.\n",
    "    \"\"\"\n",
    "    hist = histogram(a)\n",
    "    lut = []\n",
    "    for b in range(0, len(hist), 256):\n",
    "        # step size\n",
    "        step = functools.reduce(operator.add, hist[b:b+256]) / 255 # create equalization lookup table\n",
    "        n= 0\n",
    "        for i in range(256):\n",
    "            lut.append(n / step)\n",
    "            n = n + hist[i+b]\n",
    "    gd.numpy.take(lut, a, out=a)\n",
    "    return a"
   ]
  },
  {
   "cell_type": "code",
   "execution_count": 22,
   "metadata": {
    "collapsed": false
   },
   "outputs": [
    {
     "data": {
      "text/plain": [
       "<osgeo.gdal.Dataset; proxy of <Swig Object of type 'GDALDatasetShadow *' at 0x10e38c150> >"
      ]
     },
     "execution_count": 22,
     "metadata": {},
     "output_type": "execute_result"
    }
   ],
   "source": [
    "# NDVI output from ndvi script\n",
    "source = \"ndvi.tif\"\n",
    "# Target file name for classified\n",
    "# image image\n",
    "target = \"ndvi_color.tif\"\n",
    "# Load the image into an array\n",
    "ndvi = gd.LoadFile(source).astype(gd.numpy.uint8)\n",
    "# Peform a histogram stretch so we are able to\n",
    "# use all of the classes\n",
    "ndvi = stretch(ndvi)\n",
    "# Create a blank 3-band image the same size as the ndvi\n",
    "rgb = gd.numpy.zeros((3, len(ndvi), len(ndvi[0])), gd.numpy.uint8)\n",
    "# Class list with ndvi upper range values.\n",
    "# Note the lower and upper values are listed on the ends\n",
    "classes = [58,73,110,147,184,220,255]\n",
    "# Color look-up table (lut)\n",
    "# The lut must match the number of classes\n",
    "# Specified as R,G,B tuples from dark brown to dark green\n",
    "lut = [[120,69,25], [255,178,74], [255,237,166], [173,232,94],\n",
    "          [135,181,64], [3,156,0], [1,100,0]]\n",
    "# Starting value of the first class\n",
    "start = 1\n",
    "# Process all classes.\n",
    "for i in range(len(classes)):\n",
    "    mask = gd.numpy.logical_and(start <= ndvi, ndvi <= classes[i])\n",
    "    for j in range(len(lut[i])):\n",
    "        rgb[j] = gd.numpy.choose(mask, \\\n",
    "                                 (rgb[j], lut[i][j]))\n",
    "        start = classes[i]+1\n",
    "# Save a geotiff of the colorized ndvi.\n",
    "gd.SaveArray(rgb, target, format=\"GTiff\", prototype=source)"
   ]
  },
  {
   "cell_type": "code",
   "execution_count": 23,
   "metadata": {
    "collapsed": true
   },
   "outputs": [],
   "source": [
    "import numpy as np\n",
    "from linecache import getline\n",
    "def floodFill(c,r,mask):\n",
    "    \"\"\"\n",
    "    Crawls a mask array containing\n",
    "    only 1 and 0 values from the\n",
    "    starting point (c=column,\n",
    "    r=row - a.k.a. x,y) and returns\n",
    "    an array with all 1 values\n",
    "    connected to the starting cell.\n",
    "    This algorithm performs a 4-way\n",
    "   check non-recursively.\n",
    "   \"\"\"\n",
    "    # cells already filled\n",
    "    filled = set()\n",
    "    # cells to fill\n",
    "    fill = set()\n",
    "    fill.add((c,r))\n",
    "    width = mask.shape[1]-1\n",
    "    height = mask.shape[0]-1\n",
    "    # Our output inundation array\n",
    "    flood = np.zeros_like(mask, dtype=np.int8)\n",
    "    # Loop through and modify the cells which\n",
    "    # need to be checked.\n",
    "    while fill:\n",
    "        # Grab a cell\n",
    "        x,y = fill.pop()\n",
    "        if y == height or x == width or x < 0 or y < 0:\n",
    "            # Don't fill\n",
    "            continue\n",
    "        if mask[y][x] == 1:\n",
    "            # Do fill\n",
    "            flood[y][x]=1\n",
    "            filled.add((x,y))\n",
    "            # Check neighbors for 1 values\n",
    "            west =(x-1,y)\n",
    "            east = (x+1,y)\n",
    "            north = (x,y-1)\n",
    "            south = (x,y+1)\n",
    "            if not west in filled:\n",
    "                fill.add(west)\n",
    "            if not east in filled:\n",
    "                fill.add(east)\n",
    "            if not north in filled:\n",
    "                fill.add(north)\n",
    "            if not south in filled:\n",
    "                fill.add(south)\n",
    "    return flood"
   ]
  },
  {
   "cell_type": "code",
   "execution_count": 26,
   "metadata": {
    "collapsed": false
   },
   "outputs": [
    {
     "ename": "SyntaxError",
     "evalue": "Missing parentheses in call to 'print' (<ipython-input-26-43e44c7444c9>, line 21)",
     "output_type": "error",
     "traceback": [
      "\u001b[0;36m  File \u001b[0;32m\"<ipython-input-26-43e44c7444c9>\"\u001b[0;36m, line \u001b[0;32m21\u001b[0m\n\u001b[0;31m    print \"Beginning flood fill\"\u001b[0m\n\u001b[0m                               ^\u001b[0m\n\u001b[0;31mSyntaxError\u001b[0m\u001b[0;31m:\u001b[0m Missing parentheses in call to 'print'\n"
     ]
    }
   ],
   "source": [
    "## MAKING A FLOOD\n",
    "\n",
    "source = \"terrain.asc\"\n",
    "target = \"flood.asc\"\n",
    "print (\"Opening image...\")\n",
    "img = np.loadtxt(source, skiprows=6)\n",
    "print (\"Image opened\")\n",
    "a = np.where(img<70, 1,0)\n",
    "print (\"Image masked\")\n",
    "# Parse the headr using a loop and\n",
    "# the built-in linecache module\n",
    "hdr = [getline(source, i) for i in range(1,7)]\n",
    "values = [float(h.split(\" \")[-1].strip()) for h in hdr]\n",
    "cols,rows,lx,ly,cell,nd = values\n",
    "xres = cell\n",
    "yres = cell * -1\n",
    "# Starting point for the\n",
    "# flood inundation\n",
    "sx = 2582\n",
    "sy = 2057\n",
    "print (\"Beginning flood fill\")\n",
    "fld = floodFill(sx,sy, a)\n",
    "print (\"Finished Flood fill\")\n",
    "header=\"\"\n",
    "for i in range(6):\n",
    "    header += hdr[i]\n",
    "print \"Saving grid\"\n",
    "# Open the output file, add the hdr, save the array\n",
    "with open(target, \"wb\") as f:\n",
    "    np.savetxt(f, fld, header=header, fmt=\"%1i\")\n",
    "print (\"Done!\")"
   ]
  },
  {
   "cell_type": "code",
   "execution_count": null,
   "metadata": {
    "collapsed": true
   },
   "outputs": [],
   "source": []
  }
 ],
 "metadata": {
  "kernelspec": {
   "display_name": "Python 3",
   "language": "python",
   "name": "python3"
  },
  "language_info": {
   "codemirror_mode": {
    "name": "ipython",
    "version": 3
   },
   "file_extension": ".py",
   "mimetype": "text/x-python",
   "name": "python",
   "nbconvert_exporter": "python",
   "pygments_lexer": "ipython3",
   "version": "3.6.0"
  }
 },
 "nbformat": 4,
 "nbformat_minor": 2
}
