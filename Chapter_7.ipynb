{
 "cells": [
  {
   "cell_type": "code",
   "execution_count": 23,
   "metadata": {
    "collapsed": false
   },
   "outputs": [],
   "source": [
    "import numpy as np\n",
    "import linecache as lc\n",
    "\n",
    "myArray1 = np.loadtxt(\"myGrid.asc\", skiprows=6)\n",
    "line1 = lc.getline(\"myGrid.asc\", 1)\n",
    "line2 = lc.getline(\"myGrid.asc\", 2)\n",
    "line3 = lc.getline(\"myGrid.asc\", 3)\n",
    "line4 = lc.getline(\"myGrid.asc\", 4)\n",
    "line5 = lc.getline(\"myGrid.asc\", 5)\n",
    "line6 = lc.getline(\"myGrid.asc\", 6)\n",
    "\n",
    "myArray = myArray1.copy()"
   ]
  },
  {
   "cell_type": "code",
   "execution_count": 24,
   "metadata": {
    "collapsed": false
   },
   "outputs": [
    {
     "data": {
      "text/plain": [
       "array([[ 1.,  1.,  1.,  1.,  1.,  1.,  1.,  1.,  1.,  1.],\n",
       "       [ 1.,  1.,  1.,  1.,  1.,  1.,  1.,  1.,  1.,  1.],\n",
       "       [ 1.,  1.,  1.,  1.,  1.,  1.,  1.,  1.,  1.,  1.],\n",
       "       [ 1.,  1.,  1.,  1.,  1.,  1.,  1.,  1.,  1.,  1.],\n",
       "       [ 1.,  1.,  1.,  1.,  1.,  1.,  1.,  1.,  1.,  1.],\n",
       "       [ 1.,  1.,  1.,  1.,  1.,  1.,  1.,  1.,  1.,  1.],\n",
       "       [ 1.,  1.,  1.,  1.,  1.,  1.,  1.,  1.,  1.,  1.],\n",
       "       [ 1.,  1.,  1.,  1.,  1.,  1.,  1.,  1.,  1.,  1.],\n",
       "       [ 1.,  1.,  1.,  1.,  1.,  1.,  1.,  1.,  1.,  1.],\n",
       "       [ 1.,  1.,  1.,  1.,  1.,  1.,  1.,  1.,  1.,  1.]])"
      ]
     },
     "execution_count": 24,
     "metadata": {},
     "output_type": "execute_result"
    }
   ],
   "source": [
    "header = line1\n",
    "header += line2\n",
    "header += line3\n",
    "header += line4\n",
    "header += line5\n",
    "header += line6\n",
    "\n",
    "np.savetxt(\"myGrid_2.asc\", myArray, header=header, fmt=\"%1.2f\")\n",
    "myArray2 = np.loadtxt(\"myGrid.asc\", skiprows=6)\n",
    "myArray2"
   ]
  },
  {
   "cell_type": "code",
   "execution_count": 30,
   "metadata": {
    "collapsed": false
   },
   "outputs": [],
   "source": [
    "# File name of ASCII digital elevation model\n",
    "source = \"dem.asc\"\n",
    "# File name of the slope grid\n",
    "slopegrid = \"slope.asc\"\n",
    "# File name of the aspect grid\n",
    "aspectgrid = \"aspect.asc\"\n",
    "# Output file name for shaded relief\n",
    "shadegrid = \"relief.asc\"\n",
    "## Shaded elevation parameters\n",
    "# Sun direction\n",
    "azimuth=315.0\n",
    "# Sun angle\n",
    "altitude=45.0\n",
    "# Elevation exageration\n",
    "z=1.0\n",
    "# Resolution\n",
    "scale=1.0\n",
    "# No data value for output\n",
    "NODATA = -9999\n",
    "# Needed for numpy conversions\n",
    "deg2rad = 3.141592653589793 / 180.0\n",
    "rad2deg = 180.0 / 3.141592653589793\n",
    "# Parse the header using a loop and\n",
    "# the built-in linecache module\n",
    "hdr = [lc.getline(source, i) for i in range(1,7)]\n",
    "values = [float(h.split(\" \")[-1].strip()) \\\n",
    " for h in hdr]\n",
    "cols,rows,lx,ly,cell,nd = values\n",
    "xres = cell\n",
    "yres = cell * -1\n",
    "# Load the dem into a numpy array\n",
    "arr = np.loadtxt(source, skiprows=6)"
   ]
  },
  {
   "cell_type": "code",
   "execution_count": 31,
   "metadata": {
    "collapsed": true
   },
   "outputs": [],
   "source": [
    "# Exclude 2 pixels around the edges which are usually NODATA.\n",
    "# Also set up structure for a 3x3 window to process the slope\n",
    "# throughout the grid\n",
    "window = []\n",
    "for row in range(3):\n",
    "    for col in range(3):\n",
    "        window.append(arr[row:(row + arr.shape[0] - 2), \\\n",
    "                          col:(col + arr.shape[1] - 2)])\n",
    "# Process each cell\n",
    "x = ((z * window[0] + z * window[3] + z * \\\n",
    "      window[3] + z * window[6]) - \\\n",
    "     (z * window[2] + z * window[5] + z * \\\n",
    "      window[5] + z * window[8])) / (8.0 * xres * scale);\n",
    "y = ((z * window[6] + z * window[7] + z * window[7] + z * window[8]) \\\n",
    "     - (z * window[0] + z * window[1] + z * window[1] + z * window[2])) \\\n",
    "    / (8.0 * yres * scale);\n",
    "# Calculate slope\n",
    "slope = 90.0 - np.arctan(np.sqrt(x*x + y*y)) * rad2deg\n",
    "# Calculate aspect\n",
    "aspect = np.arctan2(x, y)\n",
    "# Calculate the shaded relief\n",
    "shaded = np.sin(altitude * deg2rad) * np.sin(slope * deg2rad) \\\n",
    "+ np.cos(altitude * deg2rad) * np.cos(slope * deg2rad) \\\n",
    "* np.cos((azimuth - 90.0) * deg2rad - aspect);\n",
    "shaded = shaded * 255\n",
    "# Rebuild the new header\n",
    "header = \"ncols %s\\n\" % shaded.shape[1]\n",
    "header += \"nrows %s\\n\" % shaded.shape[0]\n",
    "header += \"xllcorner %s\\n\" % (lx + (cell * (cols - shaded.shape[1])))\n",
    "header += \"yllcorner %s\\n\" % (ly + (cell * (rows - shaded.shape[0])))\n",
    "header += \"cellsize %s\\n\" % cell\n",
    "header += \"NODATA_value %s\\n\" % NODATA\n",
    "# Set no-data values\n",
    "for pane in window:\n",
    "    slope[pane == nd] = NODATA\n",
    "    aspect[pane == nd] = NODATA\n",
    "    shaded[pane == nd] = NODATA\n"
   ]
  },
  {
   "cell_type": "code",
   "execution_count": 35,
   "metadata": {
    "collapsed": false
   },
   "outputs": [],
   "source": [
    "# Open the output file, add the header, save the slope grid (THIS IS IN PYTHON 3)\n",
    "with open(slopegrid, \"wb\") as f:\n",
    "    np.savetxt(f, slope, header=header, fmt=\"%4i\")\n",
    "    \n",
    "# Open the output file, add the header, save the slope grid\n",
    "with open(aspectgrid, \"wb\") as f:\n",
    "    np.savetxt(f, aspect, header=header, fmt=\"%4i\")\n",
    "\n",
    "# Open the output file, add the header, save the array\n",
    "with open(shadegrid, \"wb\") as f:\n",
    "    np.savetxt(f, shaded, header=header, fmt=\"%4i\")"
   ]
  },
  {
   "cell_type": "code",
   "execution_count": 36,
   "metadata": {
    "collapsed": true
   },
   "outputs": [],
   "source": [
    "import ogr\n",
    "import gdal"
   ]
  },
  {
   "cell_type": "code",
   "execution_count": 41,
   "metadata": {
    "collapsed": false
   },
   "outputs": [],
   "source": [
    "# Elevation DEM\n",
    "source = \"dem.asc\"\n",
    "# Output shapefile\n",
    "target = \"contour\"\n",
    "ogr_ds = ogr.GetDriverByName('ESRI Shapefile').CreateDataSource(target + \".shp\")\n",
    "ogr_lyr = ogr_ds.CreateLayer(target, geom_type = ogr.wkbLineString25D)\n",
    "field_defn = ogr.FieldDefn('ID', ogr.OFTInteger)\n",
    "ogr_lyr.CreateField(field_defn)\n",
    "field_defn = ogr.FieldDefn('ELEV', ogr.OFTReal)\n",
    "ogr_lyr.CreateField(field_defn)\n",
    "# gdal.ContourGenerate() arguments\n",
    "# Band srcBand,\n",
    "# double contourInterval,\n",
    "# double contourBase,\n",
    "# double[] fixedLevelCount,\n",
    "# int useNoData,\n",
    "# double noDataValue,\n",
    "# Layer dstLayer,\n",
    "# int idField,\n",
    "# int elevField\n",
    "ds = gdal.Open('dem.asc')\n",
    "gdal.ContourGenerate(ds.GetRasterBand(1), 400, 10, [], 0, 0, ogr_lyr, 0, 1)\n",
    "del ogr_ds"
   ]
  },
  {
   "cell_type": "code",
   "execution_count": 48,
   "metadata": {
    "collapsed": false
   },
   "outputs": [],
   "source": [
    "import shapefile\n",
    "import pngcanvas\n",
    "# Open the contours\n",
    "r = shapefile.Reader(\"contour.shp\")\n",
    "# Setup the world to pixels conversion\n",
    "xdist = r.bbox[2] - r.bbox[0]\n",
    "ydist = r.bbox[3] - r.bbox[1]\n",
    "iwidth = 800\n",
    "iheight = 600\n",
    "xratio = iwidth/xdist\n",
    "yratio = iheight/ydist\n",
    "contours = []\n",
    "# Loop through all shapes\n",
    "for shape in r.shapes():\n",
    "    # Loop through all parts\n",
    "    for i in range(len(shape.parts)):\n",
    "        pixels=[]\n",
    "        pt = None\n",
    "        if i<len(shape.parts)-1:\n",
    "            pt = shape.points[shape.parts[i]:shape.parts[i+1]]\n",
    "        else:\n",
    "            pt = shape.points[shape.parts[i]:]\n",
    "        for x,y in pt:\n",
    "            px = int(iwidth - ((r.bbox[2] - x) * xratio))\n",
    "            py = int((r.bbox[3] - y) * yratio)\n",
    "            pixels.append([px,py])\n",
    "        contours.append(pixels)\n",
    "# Set up the output canvas\n",
    "canvas = pngcanvas.PNGCanvas(iwidth,iheight)\n",
    "# PNGCanvas accepts rgba byte arrays for colors\n",
    "red = [0xff,0,0,0xff]\n",
    "canvas.color = red\n",
    "# Loop through the polygons and draw them\n",
    "for c in contours:\n",
    "    canvas.polyline(c)\n",
    "# Save the image\n",
    "f = open(\"contours.png\", \"wb\")\n",
    "f.write(canvas.dump())\n",
    "f.close()"
   ]
  },
  {
   "cell_type": "code",
   "execution_count": 49,
   "metadata": {
    "collapsed": false
   },
   "outputs": [
    {
     "name": "stderr",
     "output_type": "stream",
     "text": [
      "/Users/matthew/anaconda3/lib/python3.6/site-packages/ipykernel/__main__.py:29: VisibleDeprecationWarning: using a non-integer number instead of an integer will result in an error in the future\n",
      "/Users/matthew/anaconda3/lib/python3.6/site-packages/ipykernel/__main__.py:31: VisibleDeprecationWarning: using a non-integer number instead of an integer will result in an error in the future\n",
      "/Users/matthew/anaconda3/lib/python3.6/site-packages/numpy/core/numeric.py:190: VisibleDeprecationWarning: using a non-integer number instead of an integer will result in an error in the future\n",
      "  a = empty(shape, dtype, order)\n"
     ]
    }
   ],
   "source": [
    "from laspy.file import File\n",
    "import numpy as np\n",
    "\n",
    "# Source LAS file\n",
    "source = \"lidar.las\"\n",
    "# Output ASCII DEM file\n",
    "target = \"lidar.asc\"\n",
    "# Grid cell size (data units)\n",
    "cell = 1.0\n",
    "# No data value for output DEM\n",
    "NODATA = 0\n",
    "# Open LIDAR LAS file\n",
    "las = File(source, mode=\"r\")\n",
    "#xyz min and max\n",
    "min = las.header.min\n",
    "max = las.header.max\n",
    "# Get the x axis distance\n",
    "xdist = max[0] - min[0]\n",
    "# Get the y axis distance\n",
    "ydist = max[1] - min[1]\n",
    "# Number of columns for our grid\n",
    "cols = int(xdist) / cell\n",
    "# Number of rows for our grid\n",
    "rows = int(ydist) / cell\n",
    "cols += 1\n",
    "rows += 1\n",
    "# Track how many elevation\n",
    "# values we aggregate\n",
    "count = np.zeros((rows, cols)).astype(np.float32)\n",
    "# Aggregate elevation values\n",
    "zsum = np.zeros((rows, cols)).astype(np.float32)\n",
    "# Y resolution is negative\n",
    "ycell = -1 * cell\n",
    "# Project x,y values to grid\n",
    "projx = (las.x - min[0]) / cell\n",
    "projy = (las.y - min[1]) / ycell\n",
    "# Cast to integers and clip for use as index\n",
    "ix = projx.astype(np.int32)\n",
    "iy = projy.astype(np.int32)\n",
    "# Loop through x,y,z arrays, add to grid shape,\n",
    "# and aggregate values for averaging\n",
    "for x,y,z in np.nditer([ix, iy, las.z]):\n",
    "    count[y, x]+=1\n",
    "    zsum[y, x]+=z\n",
    "\n",
    "# Change 0 values to 1 to avoid numpy warnings,\n",
    "# and NaN values in array\n",
    "nonzero = np.where(count>0, count, 1)\n",
    "# Average our z values\n",
    "zavg = zsum/nonzero\n",
    "# Interpolate 0 values in array to avoid any\n",
    "# holes in the grid\n",
    "mean = np.ones((rows,cols)) * np.mean(zavg)\n",
    "left = np.roll(zavg, -1, 1)\n",
    "lavg = np.where(left>0,left,mean)\n",
    "right = np.roll(zavg, 1, 1)\n",
    "ravg = np.where(right>0,right,mean)\n",
    "interpolate = (lavg+ravg)/2\n",
    "fill=np.where(zavg>0,zavg,interpolate)\n",
    "# Create our ASCII DEM header\n",
    "header = \"ncols %s\\n\" % fill.shape[1]\n",
    "header += \"nrows %s\\n\" % fill.shape[0]\n",
    "header += \"xllcorner %s\\n\" % min[0]\n",
    "header += \"yllcorner %s\\n\" % min[1]\n",
    "header += \"cellsize %s\\n\" % cell\n",
    "header += \"NODATA_value %s\\n\" % NODATA\n",
    "# Open the output file, add the header, save the array\n",
    "with open(target, \"wb\") as f:\n",
    "    # The fmt string ensures we output floats\n",
    "    # that have at least one number but only\n",
    "    # two decimal places\n",
    "    np.savetxt(f, fill, header=header, fmt=\"%1.2f\")"
   ]
  },
  {
   "cell_type": "code",
   "execution_count": 53,
   "metadata": {
    "collapsed": true
   },
   "outputs": [],
   "source": [
    "import numpy as np\n",
    "from PIL import Image\n",
    "from PIL import ImageOps\n",
    "# Source LAS file\n",
    "source = \"relief.asc\"\n",
    "# Output ASCII DEM file\n",
    "target = \"relief.bmp\"\n",
    "# Load the ASCII DEM into a numpy array\n",
    "arr = np.loadtxt(source, skiprows=6)\n",
    "# Convert array to numpy image\n",
    "im = Image.fromarray(arr).convert('RGB')\n",
    "# Enhance the image:\n",
    "# equalize and increase contrast\n",
    "im = ImageOps.equalize(im)\n",
    "im = ImageOps.autocontrast(im)\n",
    "# Save the image\n",
    "im.save(target)"
   ]
  },
  {
   "cell_type": "code",
   "execution_count": 51,
   "metadata": {
    "collapsed": true
   },
   "outputs": [],
   "source": [
    "import colorsys"
   ]
  },
  {
   "cell_type": "code",
   "execution_count": 52,
   "metadata": {
    "collapsed": true
   },
   "outputs": [],
   "source": [
    "# Source LIDAR file\n",
    "source = \"lidar.asc\"\n",
    "# Output image file\n",
    "target = \"lidar.bmp\"\n",
    "# Load the ASCII DEM into a numpy array\n",
    "arr = np.loadtxt(source, skiprows=6)\n",
    "# Convert the numpy array to a PIL image\n",
    "im = Image.fromarray(arr).convert('L')\n",
    "# Enhance the image\n",
    "im = ImageOps.equalize(im)\n",
    "im = ImageOps.autocontrast(im)\n",
    "# Begin building our color ramp\n",
    "palette = []\n",
    "# Hue, Saturaction, Value\n",
    "# color space\n",
    "h = .67\n",
    "s = 1\n",
    "v = 1\n",
    "# We'll step through colors from:\n",
    "# blue-green-yellow-orange-red.\n",
    "# Blue=low elevation, Red=high-elevation\n",
    "step = h/256.0\n",
    "# Build the palette\n",
    "for i in range(256):\n",
    "    rp,gp,bp = colorsys.hsv_to_rgb(h,s,v)\n",
    "    r = int(rp*255)\n",
    "    g = int(gp*255)\n",
    "    b = int(bp*255)\n",
    "    palette.extend([r,g,b])\n",
    "    h-=step\n",
    "# Apply the palette to the image\n",
    "im.putpalette(palette)\n",
    "# Save the image\n",
    "im.save(target)"
   ]
  },
  {
   "cell_type": "code",
   "execution_count": 58,
   "metadata": {
    "collapsed": false
   },
   "outputs": [],
   "source": [
    "#import cPickle\n",
    "import os\n",
    "import time\n",
    "import math\n",
    "# Third-party Python modules:\n",
    "import numpy as np\n",
    "import shapefile\n",
    "from laspy.file import File\n",
    "#import voronoi\n",
    "\n",
    "#I am having problems with this section because I am using python3. The voronoi.py file has too many syntax errors\n",
    "#and cPickle is only python 2 compatable"
   ]
  },
  {
   "cell_type": "code",
   "execution_count": null,
   "metadata": {
    "collapsed": true
   },
   "outputs": [],
   "source": []
  }
 ],
 "metadata": {
  "kernelspec": {
   "display_name": "Python 3",
   "language": "python",
   "name": "python3"
  },
  "language_info": {
   "codemirror_mode": {
    "name": "ipython",
    "version": 3
   },
   "file_extension": ".py",
   "mimetype": "text/x-python",
   "name": "python",
   "nbconvert_exporter": "python",
   "pygments_lexer": "ipython3",
   "version": "3.6.0"
  }
 },
 "nbformat": 4,
 "nbformat_minor": 2
}
