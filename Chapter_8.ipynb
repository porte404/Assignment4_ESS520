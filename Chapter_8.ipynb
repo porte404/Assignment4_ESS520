{
 "cells": [
  {
   "cell_type": "code",
   "execution_count": 1,
   "metadata": {
    "collapsed": true
   },
   "outputs": [],
   "source": [
    "import gdal, gdalnumeric, ogr\n",
    "from PIL import Image, ImageDraw"
   ]
  },
  {
   "cell_type": "code",
   "execution_count": 11,
   "metadata": {
    "collapsed": false
   },
   "outputs": [],
   "source": [
    "def imageToArray(i):\n",
    "    \"\"\"Converts a Python Imaging Library array to a gdalnumeric image.\"\"\"\n",
    "    a=gdalnumeric.numpy.fromstring(i.tobytes(),'b')\n",
    "    a.shape=i.im.size[1], i.im.size[0]\n",
    "    return a\n",
    "def world2Pixel(geoMatrix, x, y):\n",
    "    \"\"\"\n",
    "    Uses a gdal geomatrix (gdal.GetGeoTransform())\n",
    "    to calculate the pixel location of a\n",
    "    geospatial coordinate\n",
    "    \"\"\"\n",
    "    ulX = geoMatrix[0]\n",
    "    ulY = geoMatrix[3]\n",
    "    xDist = geoMatrix[1]\n",
    "    yDist = geoMatrix[5]\n",
    "    rtnX = geoMatrix[2]\n",
    "    rtnY = geoMatrix[4]\n",
    "    pixel = int((x - ulX) / xDist)\n",
    "    line = int((ulY - y) / xDist)\n",
    "    return (pixel, line)"
   ]
  },
  {
   "cell_type": "code",
   "execution_count": 12,
   "metadata": {
    "collapsed": true
   },
   "outputs": [],
   "source": [
    "# Multispectral image used\n",
    "# to create the NDVI. Must\n",
    "# have red and infrared\n",
    "# bands\n",
    "source = \"farm.tif\"\n",
    "# Output geotiff file name\n",
    "target = \"ndvi.tif\"\n",
    "# Load the source data as a gdalnumeric array\n",
    "srcArray = gdalnumeric.LoadFile(source)\n",
    "# Also load as a gdal image to\n",
    "# get geotransform (world file) info\n",
    "srcImage = gdal.Open(source)\n",
    "geoTrans = srcImage.GetGeoTransform()\n",
    "# Red and infrared (or near infrared) bands\n",
    "r = srcArray[1]\n",
    "ir = srcArray[2]\n"
   ]
  },
  {
   "cell_type": "code",
   "execution_count": 13,
   "metadata": {
    "collapsed": true
   },
   "outputs": [],
   "source": [
    "## Clip a field out of the bands using a\n",
    "## field boundary shapefile\n",
    "# Create an OGR layer from a Field boundary shapefile\n",
    "field = ogr.Open(\"field.shp\")\n",
    "# Must define a \"layer\" to keep OGR happy\n",
    "lyr = field.GetLayer(\"field\")\n",
    "# Only one polygon in this shapefile\n",
    "poly = lyr.GetNextFeature()\n",
    "# Convert the layer extent to image pixel coordinates\n",
    "minX, maxX, minY, maxY = lyr.GetExtent()\n",
    "ulX, ulY = world2Pixel(geoTrans, minX, maxY)\n",
    "lrX, lrY = world2Pixel(geoTrans, maxX, minY)\n",
    "# Calculate the pixel size of the new image"
   ]
  },
  {
   "cell_type": "code",
   "execution_count": 14,
   "metadata": {
    "collapsed": false
   },
   "outputs": [],
   "source": [
    "pxWidth = int(lrX - ulX)\n",
    "pxHeight = int(lrY - ulY)\n",
    "# Create a blank image of the correct size\n",
    "# that will serve as our mask\n",
    "clipped = gdalnumeric.numpy.zeros((3, pxHeight, pxWidth), \\\n",
    "                                  gdalnumeric.numpy.uint8)\n",
    "#mmask = gdalnumeric.zeros((3, pxHeight, pxWidth), gdalnumeric.UnsignedInt8)\n",
    "#rgb = rgb.astype(gdalnumeric.UnsignedInt8)\n",
    "rClip = r[ulY:lrY, ulX:lrX]\n",
    "irClip = ir[ulY:lrY, ulX:lrX]\n",
    "# Create a new geomatrix for the image\n",
    "geoTrans = list(geoTrans)\n",
    "geoTrans[0] = minX\n",
    "geoTrans[3] = maxY\n",
    "# Map points to pixels for drawing\n",
    "# the field boundary on a blank\n",
    "# 8-bit, black and white, mask image.\n",
    "points = []\n",
    "pixels = []\n",
    "# Grab the polygon geometry\n",
    "geom = poly.GetGeometryRef()\n",
    "pts = geom.GetGeometryRef(0)\n",
    "# Loop through geometry and turn\n",
    "# the points into an easy-to-manage\n",
    "# Python list\n",
    "for p in range(pts.GetPointCount()):\n",
    "    points.append((pts.GetX(p), pts.GetY(p)))\n",
    "# Loop through the points and map to pixels.\n",
    "# Append the pixels to a pixel list\n",
    "for p in points:\n",
    "    pixels.append(world2Pixel(geoTrans, p[0], p[1]))\n",
    "# Create the raster polygon image\n",
    "rasterPoly = Image.new(\"L\", (pxWidth, pxHeight), 1)\n",
    "# Create a PIL drawing object\n",
    "rasterize = ImageDraw.Draw(rasterPoly)\n",
    "# Dump the pixels to the image\n",
    "rasterize.polygon(pixels, 0)\n",
    "# Hand the image back to gdal/gdalnumeric\n",
    "# so we can use it as an array mask\n",
    "mask = imageToArray(rasterPoly)\n"
   ]
  },
  {
   "cell_type": "code",
   "execution_count": 15,
   "metadata": {
    "collapsed": true
   },
   "outputs": [],
   "source": [
    "# Clip the red band using the mask\n",
    "rClip = gdalnumeric.numpy.choose(mask, \\\n",
    "                                 (rClip, 0)).astype(gdalnumeric.numpy.uint8)\n",
    "# Clip the infrared band using the mask\n",
    "irClip = gdalnumeric.numpy.choose(mask, \\\n",
    "                                  (irClip, 0)).astype(gdalnumeric.numpy.uint8)"
   ]
  },
  {
   "cell_type": "code",
   "execution_count": 16,
   "metadata": {
    "collapsed": false
   },
   "outputs": [
    {
     "data": {
      "text/plain": [
       "<osgeo.gdal.Dataset; proxy of <Swig Object of type 'GDALDatasetShadow *' at 0x10e38c570> >"
      ]
     },
     "execution_count": 16,
     "metadata": {},
     "output_type": "execute_result"
    }
   ],
   "source": [
    "# We don't care about numpy warnings\n",
    "# due to NaN values from clipping\n",
    "gdalnumeric.numpy.seterr(all=\"ignore\")\n",
    "# NDVI equation: (infrared - red) / (infrared + red)\n",
    "# *1.0 converts values to floats,\n",
    "# +1.0 prevents ZeroDivisionErrors\n",
    "ndvi = 1.0 * (irClip - rClip) / irClip + rClip + 1.0\n",
    "# Remove any NaN values from the final product\n",
    "ndvi = gdalnumeric.numpy.nan_to_num(ndvi)\n",
    "# Save ndvi as tiff\n",
    "gdalnumeric.SaveArray(ndvi, target, \\\n",
    "                      format=\"GTiff\", prototype=source)"
   ]
  },
  {
   "cell_type": "code",
   "execution_count": 20,
   "metadata": {
    "collapsed": true
   },
   "outputs": [],
   "source": [
    "import gdalnumeric as gd\n",
    "import operator\n",
    "import functools"
   ]
  },
  {
   "cell_type": "code",
   "execution_count": 21,
   "metadata": {
    "collapsed": true
   },
   "outputs": [],
   "source": [
    "def histogram(a, bins=range(0,256)):\n",
    "    \"\"\"\n",
    "    Histogram function for multi-dimensional array.\n",
    "    a = array\n",
    "    bins = range of numbers to match\n",
    "    \"\"\"\n",
    "    fa = a.flat\n",
    "    n = gd.numpy.searchsorted(gd.numpy.sort(fa), bins)\n",
    "    n = gd.numpy.concatenate([n, [len(fa)]])\n",
    "    hist = n[1:]-n[:-1]\n",
    "    return hist\n",
    "def stretch(a):\n",
    "    \"\"\"\n",
    "    Performs a histogram stretch on a gdalnumeric array image.\n",
    "    \"\"\"\n",
    "    hist = histogram(a)\n",
    "    lut = []\n",
    "    for b in range(0, len(hist), 256):\n",
    "        # step size\n",
    "        step = functools.reduce(operator.add, hist[b:b+256]) / 255 # create equalization lookup table\n",
    "        n= 0\n",
    "        for i in range(256):\n",
    "            lut.append(n / step)\n",
    "            n = n + hist[i+b]\n",
    "    gd.numpy.take(lut, a, out=a)\n",
    "    return a"
   ]
  },
  {
   "cell_type": "code",
   "execution_count": 22,
   "metadata": {
    "collapsed": false
   },
   "outputs": [
    {
     "data": {
      "text/plain": [
       "<osgeo.gdal.Dataset; proxy of <Swig Object of type 'GDALDatasetShadow *' at 0x10e38c150> >"
      ]
     },
     "execution_count": 22,
     "metadata": {},
     "output_type": "execute_result"
    }
   ],
   "source": [
    "# NDVI output from ndvi script\n",
    "source = \"ndvi.tif\"\n",
    "# Target file name for classified\n",
    "# image image\n",
    "target = \"ndvi_color.tif\"\n",
    "# Load the image into an array\n",
    "ndvi = gd.LoadFile(source).astype(gd.numpy.uint8)\n",
    "# Peform a histogram stretch so we are able to\n",
    "# use all of the classes\n",
    "ndvi = stretch(ndvi)\n",
    "# Create a blank 3-band image the same size as the ndvi\n",
    "rgb = gd.numpy.zeros((3, len(ndvi), len(ndvi[0])), gd.numpy.uint8)\n",
    "# Class list with ndvi upper range values.\n",
    "# Note the lower and upper values are listed on the ends\n",
    "classes = [58,73,110,147,184,220,255]\n",
    "# Color look-up table (lut)\n",
    "# The lut must match the number of classes\n",
    "# Specified as R,G,B tuples from dark brown to dark green\n",
    "lut = [[120,69,25], [255,178,74], [255,237,166], [173,232,94],\n",
    "          [135,181,64], [3,156,0], [1,100,0]]\n",
    "# Starting value of the first class\n",
    "start = 1\n",
    "# Process all classes.\n",
    "for i in range(len(classes)):\n",
    "    mask = gd.numpy.logical_and(start <= ndvi, ndvi <= classes[i])\n",
    "    for j in range(len(lut[i])):\n",
    "        rgb[j] = gd.numpy.choose(mask, \\\n",
    "                                 (rgb[j], lut[i][j]))\n",
    "        start = classes[i]+1\n",
    "# Save a geotiff of the colorized ndvi.\n",
    "gd.SaveArray(rgb, target, format=\"GTiff\", prototype=source)"
   ]
  },
  {
   "cell_type": "code",
   "execution_count": 23,
   "metadata": {
    "collapsed": true
   },
   "outputs": [],
   "source": [
    "import numpy as np\n",
    "from linecache import getline\n",
    "def floodFill(c,r,mask):\n",
    "    \"\"\"\n",
    "    Crawls a mask array containing\n",
    "    only 1 and 0 values from the\n",
    "    starting point (c=column,\n",
    "    r=row - a.k.a. x,y) and returns\n",
    "    an array with all 1 values\n",
    "    connected to the starting cell.\n",
    "    This algorithm performs a 4-way\n",
    "   check non-recursively.\n",
    "   \"\"\"\n",
    "    # cells already filled\n",
    "    filled = set()\n",
    "    # cells to fill\n",
    "    fill = set()\n",
    "    fill.add((c,r))\n",
    "    width = mask.shape[1]-1\n",
    "    height = mask.shape[0]-1\n",
    "    # Our output inundation array\n",
    "    flood = np.zeros_like(mask, dtype=np.int8)\n",
    "    # Loop through and modify the cells which\n",
    "    # need to be checked.\n",
    "    while fill:\n",
    "        # Grab a cell\n",
    "        x,y = fill.pop()\n",
    "        if y == height or x == width or x < 0 or y < 0:\n",
    "            # Don't fill\n",
    "            continue\n",
    "        if mask[y][x] == 1:\n",
    "            # Do fill\n",
    "            flood[y][x]=1\n",
    "            filled.add((x,y))\n",
    "            # Check neighbors for 1 values\n",
    "            west =(x-1,y)\n",
    "            east = (x+1,y)\n",
    "            north = (x,y-1)\n",
    "            south = (x,y+1)\n",
    "            if not west in filled:\n",
    "                fill.add(west)\n",
    "            if not east in filled:\n",
    "                fill.add(east)\n",
    "            if not north in filled:\n",
    "                fill.add(north)\n",
    "            if not south in filled:\n",
    "                fill.add(south)\n",
    "    return flood"
   ]
  },
  {
   "cell_type": "code",
   "execution_count": 28,
   "metadata": {
    "collapsed": false
   },
   "outputs": [
    {
     "name": "stdout",
     "output_type": "stream",
     "text": [
      "Opening image...\n",
      "Image opened\n",
      "Image masked\n",
      "Beginning flood fill\n",
      "Finished Flood fill\n",
      "Saving grid\n",
      "Done!\n"
     ]
    }
   ],
   "source": [
    "## MAKING A FLOOD\n",
    "\n",
    "source = \"terrain.asc\"\n",
    "target = \"flood.asc\"\n",
    "print (\"Opening image...\")\n",
    "img = np.loadtxt(source, skiprows=6)\n",
    "print (\"Image opened\")\n",
    "a = np.where(img<70, 1,0)\n",
    "print (\"Image masked\")\n",
    "# Parse the headr using a loop and\n",
    "# the built-in linecache module\n",
    "hdr = [getline(source, i) for i in range(1,7)]\n",
    "values = [float(h.split(\" \")[-1].strip()) for h in hdr]\n",
    "cols,rows,lx,ly,cell,nd = values\n",
    "xres = cell\n",
    "yres = cell * -1\n",
    "# Starting point for the\n",
    "# flood inundation\n",
    "sx = 2582\n",
    "sy = 2057\n",
    "print (\"Beginning flood fill\")\n",
    "fld = floodFill(sx,sy, a)\n",
    "print (\"Finished Flood fill\")\n",
    "header=\"\"\n",
    "for i in range(6):\n",
    "    header += hdr[i]\n",
    "print (\"Saving grid\")\n",
    "# Open the output file, add the hdr, save the array\n",
    "with open(target, \"wb\") as f:\n",
    "    np.savetxt(f, fld, header=header, fmt=\"%1i\")\n",
    "print (\"Done!\")"
   ]
  },
  {
   "cell_type": "code",
   "execution_count": 31,
   "metadata": {
    "collapsed": false
   },
   "outputs": [
    {
     "name": "stdout",
     "output_type": "stream",
     "text": [
      "COST GRID (Value + Distance)\n",
      "[[12 14  4  2  5]\n",
      " [10  4 11  2  8]\n",
      " [ 8 15  4  6  3]\n",
      " [12  6  2 17 12]\n",
      " [ 7  9 16  7 14]]\n"
     ]
    }
   ],
   "source": [
    "## LEAST COST PATHS\n",
    "\n",
    "import numpy as np\n",
    "# Width and height # of grids\n",
    "w= 5\n",
    "h= 5\n",
    "# Start location:\n",
    "# Lower left of grid\n",
    "start = (h-1, 0)\n",
    "# End location:\n",
    "# Top right of grid\n",
    "dx = w-1\n",
    "dy = 0\n",
    "# Blank grid\n",
    "a = np.zeros((w,h))\n",
    "# Distance grid\n",
    "dist = np.zeros(a.shape, dtype=np.int8)\n",
    "# Calculate distance for all cells\n",
    "for y,x in np.ndindex(a.shape):\n",
    "    dist[y][x] = abs((dx-x)+(dy-y))\n",
    "# \"Terrain\" is a random value between 1-16.\n",
    "# Add to the distance grid to calculate\n",
    "# The cost of moving to a cell\n",
    "cost = np.random.randint(1,16,(w,h)) + dist\n",
    "print (\"COST GRID (Value + Distance)\")\n",
    "print (cost)"
   ]
  },
  {
   "cell_type": "code",
   "execution_count": 33,
   "metadata": {
    "collapsed": false
   },
   "outputs": [],
   "source": [
    "# Our A* search algorithm\n",
    "def astar(start, end, h, g):\n",
    "    cset = set()\n",
    "    oset = set()\n",
    "    path = set()\n",
    "    oset.add(start)\n",
    "    while oset:\n",
    "        cur = oset.pop()\n",
    "        if cur == end:\n",
    "            return path\n",
    "        cset.add(cur)\n",
    "        path.add(cur)\n",
    "        options = []\n",
    "        y1 = cur[0]\n",
    "        x1 = cur[1]\n",
    "        if y1 > 0:\n",
    "            options.append((y1-1, x1))\n",
    "        if y1 < h.shape[0]-1:\n",
    "            options.append((y1+1, x1))\n",
    "        if x1 > 0:\n",
    "            options.append((y1, x1-1))\n",
    "        if x1 < h.shape[1]-1:\n",
    "            options.append((y1, x1+1))\n",
    "        if end in options:\n",
    "            return path\n",
    "        best = options[0]\n",
    "        cset.add(options[0])\n",
    "        for i in range(1,len(options)):\n",
    "            option = options[i]\n",
    "            if option in cset:\n",
    "                continue\n",
    "            elif h[option] <= h[best]:\n",
    "                best = option\n",
    "                cset.add(option)\n",
    "            elif g[option] < g[best]:\n",
    "                best = option\n",
    "                cset.add(option)\n",
    "            else:\n",
    "                cset.add(option)\n",
    "        print (best, \", \", h[best], \", \", g[best])\n",
    "        oset.add(best)\n",
    "    return []"
   ]
  },
  {
   "cell_type": "code",
   "execution_count": 35,
   "metadata": {
    "collapsed": false
   },
   "outputs": [
    {
     "name": "stdout",
     "output_type": "stream",
     "text": [
      "(Y,X), HEURISTIC, DISTANCE\n",
      "(4, 1) ,  9 ,  1\n",
      "(3, 1) ,  6 ,  0\n",
      "(3, 2) ,  2 ,  1\n",
      "(2, 2) ,  4 ,  0\n",
      "(2, 3) ,  6 ,  1\n",
      "(1, 3) ,  2 ,  0\n",
      "(0, 3) ,  2 ,  1\n",
      "PATH GRID: 1=path\n",
      "[[0 0 0 1 1]\n",
      " [0 0 0 1 0]\n",
      " [0 0 1 1 0]\n",
      " [0 1 1 0 0]\n",
      " [1 1 0 0 0]]\n"
     ]
    }
   ],
   "source": [
    "print (\"(Y,X), HEURISTIC, DISTANCE\")\n",
    "# Find the path\n",
    "path = astar(start,(dy,dx),cost, dist)\n",
    "# Create and populate the path grid\n",
    "path_grid = np.zeros(cost.shape, dtype=np.uint8)\n",
    "for y,x in path:\n",
    "    path_grid[y][x]=1\n",
    "    path_grid[dy][dx]=1\n",
    "print (\"PATH GRID: 1=path\")\n",
    "print (path_grid)"
   ]
  },
  {
   "cell_type": "code",
   "execution_count": 36,
   "metadata": {
    "collapsed": false
   },
   "outputs": [
    {
     "name": "stdout",
     "output_type": "stream",
     "text": [
      "Opening dem2.asc...\n",
      "Opened dem2.asc.\n"
     ]
    }
   ],
   "source": [
    "import numpy as np\n",
    "import math\n",
    "from linecache import getline\n",
    "# Our terrain data\n",
    "source = \"dem2.asc\"\n",
    "# Output file name\n",
    "# for the path raster\n",
    "target = \"path.asc\"\n",
    "print (\"Opening %s...\" % source)\n",
    "cost = np.loadtxt(source, skiprows=6)\n",
    "print (\"Opened %s.\" % source)\n",
    "# Parse the header\n",
    "hdr = [getline(source, i) for i in range(1,7)]\n",
    "values = [float(ln.split(\" \")[-1].strip()) for ln in hdr]\n",
    "cols,rows,lx,ly,cell,nd = values\n",
    "# Starting column, row\n",
    "sx = 1006\n",
    "sy = 954\n",
    "# Ending column, row\n",
    "dx = 303\n",
    "dy = 109"
   ]
  },
  {
   "cell_type": "code",
   "execution_count": 37,
   "metadata": {
    "collapsed": true
   },
   "outputs": [],
   "source": [
    "def e_dist(p1,p2):\n",
    "    \"\"\"\n",
    "    Takes two points and returns\n",
    "    the euclidian distance\n",
    "    \"\"\"\n",
    "    x1,y1=p1\n",
    "    x2,y2=p2\n",
    "    distance = math.sqrt((x1-x2)**2+(y1-y2)**2)\n",
    "    return int(distance)\n",
    "def weighted_score(cur, node, h, start, end):\n",
    "    \"\"\"\n",
    "    Provides a weighted score by comparing the\n",
    "    current node with a neighboring node. Loosely\n",
    "    based on the Nisson score concept: f=g+h\n",
    "    In this case, the \"h\" value, or \"heuristic\",\n",
    "    is the elevation value of each node.\n",
    "    \"\"\"\n",
    "    score = 0\n",
    "    # current node elevation\n",
    "    cur_h = h[cur]\n",
    "    # current node distance from end\n",
    "    cur_g = e_dist(cur,end)\n",
    "    # current node distance from\n",
    "    cur_d = e_dist(cur,start)\n",
    "    # neighbor node elevation\n",
    "    node_h = h[node]\n",
    "    # neighbor node distance from end\n",
    "    node_g = e_dist(node,end)\n",
    "    # neighbor node distance from start\n",
    "    node_d = e_dist(node, start)\n",
    "    # Compare values with the highest\n",
    "    # weight given to terrain followed\n",
    "    # by progress towards the goal.\n",
    "    if node_h < cur_h:\n",
    "        score += cur_h-node_h\n",
    "    if node_g < cur_g:\n",
    "        score += 10\n",
    "    if node_d > cur_d:\n",
    "        score += 10\n",
    "    return score"
   ]
  },
  {
   "cell_type": "code",
   "execution_count": 39,
   "metadata": {
    "collapsed": false
   },
   "outputs": [],
   "source": [
    "def astar(start, end, h):\n",
    "    \"\"\"\n",
    "    A-Star (or A*) search algorithm.\n",
    "    Moves through nodes in a network\n",
    "    (or grid), scores each node's\n",
    "    neighbors, and goes to the node\n",
    "    with the best score until it finds\n",
    "    the end. A* is an evolved Dijkstra\n",
    "    algorithm.\n",
    "    \"\"\"\n",
    "    # Closed set of nodes to avoid\n",
    "    cset = set()\n",
    "    # Open set of nodes to evaluate\n",
    "    oset = set()\n",
    "    # Output set of path nodes\n",
    "    path = set()\n",
    "    # Add the starting point\n",
    "    # to begin processing\n",
    "    oset.add(start)\n",
    "    while oset:\n",
    "        # Grab the next node\n",
    "        cur = oset.pop()\n",
    "        # Return if we're at the end\n",
    "        if cur == end:\n",
    "            return path\n",
    "        # Close off this node to future\n",
    "        # processing\n",
    "        cset.add(cur)\n",
    "        # The current node is always\n",
    "        # a path node by definition\n",
    "        path.add(cur)\n",
    "        # List to hold neighboring\n",
    "        # nodes for processing\n",
    "        options = []\n",
    "        # Grab all of the neighbors\n",
    "        y1 = cur[0]\n",
    "        x1 = cur[1]\n",
    "        if y1 > 0:\n",
    "            options.append((y1-1, x1))\n",
    "        if y1 < h.shape[0]-1:\n",
    "            options.append((y1+1, x1))\n",
    "        if x1 > 0:\n",
    "            options.append((y1, x1-1))\n",
    "        if x1 < h.shape[1]-1:\n",
    "            options.append((y1, x1+1))\n",
    "        if x1 > 0 and y1 > 0:\n",
    "            options.append((y1-1, x1-1))\n",
    "        if y1 < h.shape[0]-1 and x1 <  h.shape[1]-1:\n",
    "            options.append((y1+1, x1+1))\n",
    "        if y1 < h.shape[0]-1 and x1 > 0:\n",
    "            options.append((y1+1, x1-1))\n",
    "        if y1 > 0 and x1 <  h.shape[1]-1:\n",
    "            options.append((y1-1, x1+1))\n",
    "        # If the end is a neighbor, return\n",
    "        if end in options:\n",
    "            return path\n",
    "        # Store the best known node\n",
    "        best = options[0]\n",
    "        # Begin scoring neighbors\n",
    "        best_score = weighted_score(cur, best, h, start, end)\n",
    "        # process the other 7 neighbors\n",
    "        for i in range(1,len(options)):\n",
    "            option = options[i]\n",
    "            # Make sure the node is new\n",
    "            if option in cset:\n",
    "                continue\n",
    "            else:\n",
    "            # Score the option and compare it to the best known\n",
    "                option_score = weighted_score(cur, option, h, start, end)\n",
    "            if option_score > best_score:\n",
    "                best = option\n",
    "                best_score = option_score\n",
    "            else:\n",
    "            # If the node isn't better seal it off\n",
    "                cset.add(option)\n",
    "        # Uncomment this print statement to watch\n",
    "        # the path develop in real time:\n",
    "        # print best, e_dist(best,end)\n",
    "        # Add the best node to the open set\n",
    "        oset.add(best)\n",
    "    return []"
   ]
  },
  {
   "cell_type": "code",
   "execution_count": 41,
   "metadata": {
    "collapsed": false
   },
   "outputs": [
    {
     "name": "stdout",
     "output_type": "stream",
     "text": [
      "Searching for path...\n",
      "Path found.\n",
      "Creating path grid...\n",
      "Plotting path...\n",
      "Path plotted.\n",
      "Saving path.asc...\n",
      "Done!\n"
     ]
    }
   ],
   "source": [
    "print (\"Searching for path...\")\n",
    "p = astar((sy,sx),(dy,dx),cost)\n",
    "print (\"Path found.\")\n",
    "print (\"Creating path grid...\")\n",
    "path = np.zeros(cost.shape)\n",
    "print (\"Plotting path...\")\n",
    "for y,x in p:\n",
    "    path[y][x]=1\n",
    "    path[dy][dx]=1\n",
    "print (\"Path plotted.\")\n",
    "print (\"Saving %s...\" % target)\n",
    "header=\"\"\n",
    "for i in range(6):\n",
    "    header += hdr[i]\n",
    "    # Open the output file, add the hdr, save the array\n",
    "    with open(target, \"wb\") as f:\n",
    "        np.savetxt(f, path, header=header, fmt=\"%4i\")\n",
    "print (\"Done!\")"
   ]
  },
  {
   "cell_type": "code",
   "execution_count": 42,
   "metadata": {
    "collapsed": true
   },
   "outputs": [],
   "source": [
    "#DONE"
   ]
  },
  {
   "cell_type": "code",
   "execution_count": null,
   "metadata": {
    "collapsed": true
   },
   "outputs": [],
   "source": []
  }
 ],
 "metadata": {
  "kernelspec": {
   "display_name": "Python 3",
   "language": "python",
   "name": "python3"
  },
  "language_info": {
   "codemirror_mode": {
    "name": "ipython",
    "version": 3
   },
   "file_extension": ".py",
   "mimetype": "text/x-python",
   "name": "python",
   "nbconvert_exporter": "python",
   "pygments_lexer": "ipython3",
   "version": "3.6.0"
  }
 },
 "nbformat": 4,
 "nbformat_minor": 2
}
